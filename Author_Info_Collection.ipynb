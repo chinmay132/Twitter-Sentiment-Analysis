{
 "cells": [
  {
   "cell_type": "markdown",
   "id": "ff73334a",
   "metadata": {},
   "source": [
    "The data for this analysis collected on October 2nd, 2022 at 6.p.m Vancouver time."
   ]
  },
  {
   "cell_type": "markdown",
   "id": "80238216",
   "metadata": {},
   "source": [
    "This notebook, is the second stage of social media analysis for tweets related to Mahsa Amini which is one of the greates trends in twitter.\n",
    "In this stage, we want to do the followings:\n",
    "* find the ten most popular words with and without stopwords\n",
    "* find the ten most popular hashtags\n",
    "* find the ten most frequently mentioned usernames\n",
    "* find the 3 most common source of tweets\n",
    "* create a line to show the time trend of tweet counts\n",
    "* find the three most influential tweets\n",
    "* find the most vocal authors on the keyword\n",
    "* find the 3 most influential authors"
   ]
  },
  {
   "cell_type": "markdown",
   "id": "ab08f4ae",
   "metadata": {},
   "source": [
    "You may remember that from the former stage, we gathered 10,000 tweets and saved it in a json file. Now, for doing our analysis, we need to read that file to be able to read our analysis.\n",
    "So we need to import json and we also import pprint for better showing the files we would read."
   ]
  },
  {
   "cell_type": "code",
   "execution_count": 22,
   "id": "c899d3b7",
   "metadata": {},
   "outputs": [],
   "source": [
    "import json\n",
    "import pprint"
   ]
  },
  {
   "cell_type": "markdown",
   "id": "f0a7f402",
   "metadata": {},
   "source": [
    "Next, we want to open the file that we have created. So, we would go for such a code, we will open the file and load the data. But the problem is that codes are not in this folder, so, we need to change our direction to the folder we had formerly. \n",
    "Pay attention to use this directories based on your machine.\n",
    "So, firstly we have:"
   ]
  },
  {
   "cell_type": "code",
   "execution_count": 23,
   "id": "289eefa6",
   "metadata": {},
   "outputs": [
    {
     "data": {
      "text/plain": [
       "'/Users/darianghorbanian/Dropbox/MBAN/P1/BAIT 508 - Business Aanlytics Programming/Final Project/02-Author Data Collection'"
      ]
     },
     "execution_count": 23,
     "metadata": {},
     "output_type": "execute_result"
    }
   ],
   "source": [
    "import os #package for changing directories\n",
    "os.getcwd()"
   ]
  },
  {
   "cell_type": "code",
   "execution_count": 24,
   "id": "44bf501b",
   "metadata": {},
   "outputs": [],
   "source": [
    "os.chdir('/Users/darianghorbanian/Dropbox/MBAN/P1/BAIT 508 - Business Aanlytics Programming/Final Project/01-Collecting Data')"
   ]
  },
  {
   "cell_type": "code",
   "execution_count": 25,
   "id": "b4ea4297",
   "metadata": {},
   "outputs": [],
   "source": [
    "with open('recent_post_\"climate change\" -is-retweet lang-en_10000.json') as json_file:\n",
    "    json_cc_data=json.load(json_file)"
   ]
  },
  {
   "cell_type": "code",
   "execution_count": 26,
   "id": "289fabe9",
   "metadata": {},
   "outputs": [
    {
     "name": "stdout",
     "output_type": "stream",
     "text": [
      "<class 'dict'>\n"
     ]
    },
    {
     "data": {
      "text/plain": [
       "dict_keys(['collection_type', 'collection_timestamp', 'query', 'tweet_cnt', 'tweets'])"
      ]
     },
     "execution_count": 26,
     "metadata": {},
     "output_type": "execute_result"
    }
   ],
   "source": [
    "print(type(json_cc_data))\n",
    "json_cc_data.keys()"
   ]
  },
  {
   "cell_type": "markdown",
   "id": "92a7e7ca",
   "metadata": {},
   "source": [
    "We would again change the directory to our folder:"
   ]
  },
  {
   "cell_type": "code",
   "execution_count": 27,
   "id": "30e82a37",
   "metadata": {},
   "outputs": [],
   "source": [
    "os.chdir('/Users/darianghorbanian/Dropbox/MBAN/P1/BAIT 508 - Business Aanlytics Programming/Final Project/02-Author Data Collection')"
   ]
  },
  {
   "cell_type": "markdown",
   "id": "f9c3bc15",
   "metadata": {},
   "source": [
    "collecting author's data:"
   ]
  },
  {
   "cell_type": "code",
   "execution_count": 28,
   "id": "f34682d8",
   "metadata": {},
   "outputs": [
    {
     "data": {
      "text/plain": [
       "dict_keys(['source', 'entities', 'created_at', 'lang', 'text', 'context_annotations', 'edit_history_tweet_ids', 'possibly_sensitive', 'in_reply_to_user_id', 'public_metrics', 'id', 'referenced_tweets', 'author_id'])"
      ]
     },
     "execution_count": 28,
     "metadata": {},
     "output_type": "execute_result"
    }
   ],
   "source": [
    "json_cc_data['tweets'][0].keys()"
   ]
  },
  {
   "cell_type": "code",
   "execution_count": 29,
   "id": "3754fe2d",
   "metadata": {},
   "outputs": [],
   "source": [
    "auth_id=[]\n",
    "for tweet in json_cc_data['tweets']:\n",
    "        if tweet['author_id'] not in auth_id:\n",
    "            auth_id.append(tweet['author_id'])\n"
   ]
  },
  {
   "cell_type": "code",
   "execution_count": 30,
   "id": "66daeef6",
   "metadata": {},
   "outputs": [
    {
     "data": {
      "text/plain": [
       "8277"
      ]
     },
     "execution_count": 30,
     "metadata": {},
     "output_type": "execute_result"
    }
   ],
   "source": [
    "l=len(auth_id)\n",
    "l"
   ]
  },
  {
   "cell_type": "code",
   "execution_count": 52,
   "id": "50313dd6",
   "metadata": {},
   "outputs": [],
   "source": [
    "import tweepy\n",
    "from TwitterCollector import TwitterCollector\n",
    "#bearer_token= r\"AAAAAAAAAAAAAAAAAAAAAN7xhgEAAAAA5mDxdSxnPsiFrmzQ4R2Fvet71Qs%3DeAlmpOrJCjfAhrqhwnnbuZytWstuT1qdXZFLwPE6OZTo6ka2A6\"\n",
    "bearer_token= r\"AAAAAAAAAAAAAAAAAAAAAH18hQEAAAAAj%2FpytngG8GtAdqgGF21LqdUiUZI%3Dw56eJ1vaXlxAAwV7mdxeAEcGabdLAph24gsEBH0zpociZfkkRB\"\n",
    "#initialize it:\n",
    "tc= TwitterCollector(bearer_token=bearer_token)"
   ]
  },
  {
   "cell_type": "code",
   "execution_count": 37,
   "id": "f65e3e2d",
   "metadata": {},
   "outputs": [],
   "source": [
    "author=[]"
   ]
  },
  {
   "cell_type": "code",
   "execution_count": 38,
   "id": "cab635f4",
   "metadata": {},
   "outputs": [],
   "source": [
    "import pandas as pd\n",
    "#author_df=pd.read_csv('Author_info.csv')\n",
    "#for i in range(0,20):\n",
    "#    author.append(tc.fetch_author_info(auth_id[i]))"
   ]
  },
  {
   "cell_type": "code",
   "execution_count": 68,
   "id": "c7cb5710",
   "metadata": {},
   "outputs": [
    {
     "name": "stdout",
     "output_type": "stream",
     "text": [
      "0\n",
      "3005\n"
     ]
    }
   ],
   "source": [
    "#len(author)\n",
    "author=[]\n",
    "ll=3005\n",
    "print(len(author))\n",
    "print(ll+len(author))\n"
   ]
  },
  {
   "cell_type": "code",
   "execution_count": 69,
   "id": "554cfcee",
   "metadata": {},
   "outputs": [
    {
     "name": "stdout",
     "output_type": "stream",
     "text": [
      "3022 author does not exist anymore\n"
     ]
    }
   ],
   "source": [
    "if len(author)+ll+300 <= 5000: #len(auth_id):\n",
    "    l=len(author)+ll+300\n",
    "else:\n",
    "    l=5000\n",
    "\n",
    "for i in range(ll+len(author),ll+len(author)+50):\n",
    "    try:\n",
    "        author.append(tc.fetch_author_info(auth_id[i]))\n",
    "    except AttributeError:\n",
    "        print(str(i) + ' author does not exist anymore')"
   ]
  },
  {
   "cell_type": "code",
   "execution_count": 60,
   "id": "c60cb30b",
   "metadata": {},
   "outputs": [
    {
     "name": "stdout",
     "output_type": "stream",
     "text": [
      "3022\n"
     ]
    }
   ],
   "source": [
    "print(i)"
   ]
  },
  {
   "cell_type": "code",
   "execution_count": 50,
   "id": "0a79f7ca",
   "metadata": {},
   "outputs": [
    {
     "name": "stdout",
     "output_type": "stream",
     "text": [
      "3022\n"
     ]
    }
   ],
   "source": [
    "if len(author)+ll+300 <= 5000: #len(auth_id):\n",
    "    l=len(author)+ll+300\n",
    "else:\n",
    "    l=5000\n",
    "try:\n",
    "    for i in range(ll+len(author),l):\n",
    "        author.append(tc.fetch_author_info(auth_id[i]))\n",
    "except:\n",
    "    print(i)\n",
    "    i=i+1"
   ]
  },
  {
   "cell_type": "code",
   "execution_count": 47,
   "id": "bed912f3",
   "metadata": {},
   "outputs": [
    {
     "name": "stdout",
     "output_type": "stream",
     "text": [
      "3023\n",
      "17\n"
     ]
    }
   ],
   "source": [
    "print(i)\n",
    "print(len(author))"
   ]
  },
  {
   "cell_type": "markdown",
   "id": "7b5b8b9f",
   "metadata": {},
   "source": [
    "At this stage, we have all the data gathered from former stage at json_ma_data and we are ready for analysis"
   ]
  },
  {
   "cell_type": "code",
   "execution_count": 241,
   "id": "9d9e7701",
   "metadata": {},
   "outputs": [
    {
     "name": "stdout",
     "output_type": "stream",
     "text": [
      "1994\n",
      "<class 'list'>\n"
     ]
    }
   ],
   "source": [
    "print(len(author))\n",
    "print(type(author))"
   ]
  },
  {
   "cell_type": "code",
   "execution_count": 242,
   "id": "55d5c7ff",
   "metadata": {},
   "outputs": [
    {
     "data": {
      "text/plain": [
       "{'name': 'Kristoffer Tigue',\n",
       " 'public_metrics': {'followers_count': 948,\n",
       "  'following_count': 1195,\n",
       "  'tweet_count': 1478,\n",
       "  'listed_count': 47},\n",
       " 'verified': False,\n",
       " 'location': 'New York, NY',\n",
       " 'username': 'krtigue',\n",
       " 'description': \"Environmental justice reporter for @insideclimate. I write the Today's Climate newsletter. Sign up below.\",\n",
       " 'created_at': '2012-05-07T20:26:18.000Z',\n",
       " 'id': '573942340'}"
      ]
     },
     "execution_count": 242,
     "metadata": {},
     "output_type": "execute_result"
    }
   ],
   "source": [
    "author[1]"
   ]
  },
  {
   "cell_type": "code",
   "execution_count": 243,
   "id": "6015a3ad",
   "metadata": {},
   "outputs": [
    {
     "data": {
      "text/plain": [
       "948"
      ]
     },
     "execution_count": 243,
     "metadata": {},
     "output_type": "execute_result"
    }
   ],
   "source": [
    "author[1]['public_metrics']['followers_count']"
   ]
  },
  {
   "cell_type": "code",
   "execution_count": 244,
   "id": "772ae6c8",
   "metadata": {},
   "outputs": [],
   "source": [
    "a_id=[]\n",
    "name=[]\n",
    "username=[]\n",
    "location=[]\n",
    "created_at=[]\n",
    "description=[]\n",
    "followers_count=[]\n",
    "following_count=[]\n",
    "tweet_count=[]\n",
    "listed_count=[]\n",
    "verified=[]\n",
    "description=[]\n",
    "\n",
    "\n",
    "for a in author:\n",
    "    a_id.append(a['id'])\n",
    "    name.append(a['name'])\n",
    "    username.append(a['username'])\n",
    "    if 'location' not in a:\n",
    "        location.append('')\n",
    "    else:\n",
    "        location.append(a['location'])\n",
    "    created_at.append(a['created_at'])\n",
    "    description.append(a['description'])\n",
    "    followers_count.append(a['public_metrics']['followers_count'])\n",
    "    following_count.append(a['public_metrics']['following_count'])\n",
    "    tweet_count.append(a['public_metrics']['tweet_count'])\n",
    "    listed_count.append(a['public_metrics']['listed_count'])\n",
    "    verified.append(a['verified'])\n",
    "   \n",
    "\n",
    "    "
   ]
  },
  {
   "cell_type": "code",
   "execution_count": 245,
   "id": "66371e6d",
   "metadata": {},
   "outputs": [],
   "source": [
    "import pandas as pd\n",
    "author_df=pd.DataFrame({'author_id':a_id,'name':name,'username':username,'location':location,\n",
    "                       'created_at':created_at,'description':description,'followers_count':followers_count,\n",
    "                       'following_count':following_count,'tweet_count':tweet_count,'listed_count':listed_count,\n",
    "                      'verified':verified,'description':description})"
   ]
  },
  {
   "cell_type": "code",
   "execution_count": 246,
   "id": "721c6d0a",
   "metadata": {},
   "outputs": [
    {
     "data": {
      "text/html": [
       "<div>\n",
       "<style scoped>\n",
       "    .dataframe tbody tr th:only-of-type {\n",
       "        vertical-align: middle;\n",
       "    }\n",
       "\n",
       "    .dataframe tbody tr th {\n",
       "        vertical-align: top;\n",
       "    }\n",
       "\n",
       "    .dataframe thead th {\n",
       "        text-align: right;\n",
       "    }\n",
       "</style>\n",
       "<table border=\"1\" class=\"dataframe\">\n",
       "  <thead>\n",
       "    <tr style=\"text-align: right;\">\n",
       "      <th></th>\n",
       "      <th>author_id</th>\n",
       "      <th>name</th>\n",
       "      <th>username</th>\n",
       "      <th>location</th>\n",
       "      <th>created_at</th>\n",
       "      <th>description</th>\n",
       "      <th>followers_count</th>\n",
       "      <th>following_count</th>\n",
       "      <th>tweet_count</th>\n",
       "      <th>listed_count</th>\n",
       "      <th>verified</th>\n",
       "    </tr>\n",
       "  </thead>\n",
       "  <tbody>\n",
       "    <tr>\n",
       "      <th>0</th>\n",
       "      <td>824678718165577730</td>\n",
       "      <td>JC Cooper🇺🇦🇳🇿🇭🇲</td>\n",
       "      <td>CoopwrJ</td>\n",
       "      <td>Hillsborough, Auckland</td>\n",
       "      <td>2017-01-26T18:01:43.000Z</td>\n",
       "      <td>Materials and Transition Engineer but original...</td>\n",
       "      <td>901</td>\n",
       "      <td>750</td>\n",
       "      <td>24084</td>\n",
       "      <td>17</td>\n",
       "      <td>False</td>\n",
       "    </tr>\n",
       "    <tr>\n",
       "      <th>1</th>\n",
       "      <td>573942340</td>\n",
       "      <td>Kristoffer Tigue</td>\n",
       "      <td>krtigue</td>\n",
       "      <td>New York, NY</td>\n",
       "      <td>2012-05-07T20:26:18.000Z</td>\n",
       "      <td>Environmental justice reporter for @insideclim...</td>\n",
       "      <td>948</td>\n",
       "      <td>1195</td>\n",
       "      <td>1478</td>\n",
       "      <td>47</td>\n",
       "      <td>False</td>\n",
       "    </tr>\n",
       "    <tr>\n",
       "      <th>2</th>\n",
       "      <td>828133781240320000</td>\n",
       "      <td>Ida Collado</td>\n",
       "      <td>IdaColl_11</td>\n",
       "      <td>Puyallup, WA</td>\n",
       "      <td>2017-02-05T06:50:54.000Z</td>\n",
       "      <td>Proud wife of 33 yrs service US Army, voluntee...</td>\n",
       "      <td>1840</td>\n",
       "      <td>3087</td>\n",
       "      <td>36158</td>\n",
       "      <td>3</td>\n",
       "      <td>False</td>\n",
       "    </tr>\n",
       "    <tr>\n",
       "      <th>3</th>\n",
       "      <td>2530246140</td>\n",
       "      <td>Uthred Ragnarson</td>\n",
       "      <td>ChiefFrenchie</td>\n",
       "      <td>Minnesota, USA</td>\n",
       "      <td>2014-05-28T15:28:17.000Z</td>\n",
       "      <td>Love the outdoors.  Love the Minnesota Vikings...</td>\n",
       "      <td>291</td>\n",
       "      <td>515</td>\n",
       "      <td>6518</td>\n",
       "      <td>0</td>\n",
       "      <td>False</td>\n",
       "    </tr>\n",
       "    <tr>\n",
       "      <th>4</th>\n",
       "      <td>1105207664479371266</td>\n",
       "      <td>Nick</td>\n",
       "      <td>Nick25949264</td>\n",
       "      <td></td>\n",
       "      <td>2019-03-11T20:43:35.000Z</td>\n",
       "      <td></td>\n",
       "      <td>23</td>\n",
       "      <td>117</td>\n",
       "      <td>11929</td>\n",
       "      <td>0</td>\n",
       "      <td>False</td>\n",
       "    </tr>\n",
       "    <tr>\n",
       "      <th>...</th>\n",
       "      <td>...</td>\n",
       "      <td>...</td>\n",
       "      <td>...</td>\n",
       "      <td>...</td>\n",
       "      <td>...</td>\n",
       "      <td>...</td>\n",
       "      <td>...</td>\n",
       "      <td>...</td>\n",
       "      <td>...</td>\n",
       "      <td>...</td>\n",
       "      <td>...</td>\n",
       "    </tr>\n",
       "    <tr>\n",
       "      <th>1989</th>\n",
       "      <td>376140762</td>\n",
       "      <td>Ecotherapy in Exeter</td>\n",
       "      <td>dradrianharris</td>\n",
       "      <td>Exeter, England</td>\n",
       "      <td>2011-09-19T11:21:55.000Z</td>\n",
       "      <td>Counsellor, Psychotherapist, psychedelic facil...</td>\n",
       "      <td>321</td>\n",
       "      <td>424</td>\n",
       "      <td>815</td>\n",
       "      <td>5</td>\n",
       "      <td>False</td>\n",
       "    </tr>\n",
       "    <tr>\n",
       "      <th>1990</th>\n",
       "      <td>451508512</td>\n",
       "      <td>Joey Freshwater</td>\n",
       "      <td>LetsGoBr0ndan</td>\n",
       "      <td>Nashville, TN</td>\n",
       "      <td>2011-12-31T15:14:34.000Z</td>\n",
       "      <td>Conservative 2A Trump Vols Titans Split time b...</td>\n",
       "      <td>481</td>\n",
       "      <td>1223</td>\n",
       "      <td>7606</td>\n",
       "      <td>4</td>\n",
       "      <td>False</td>\n",
       "    </tr>\n",
       "    <tr>\n",
       "      <th>1991</th>\n",
       "      <td>935558327987081216</td>\n",
       "      <td>Jackson Green</td>\n",
       "      <td>Oldestgreenjack</td>\n",
       "      <td>New York City</td>\n",
       "      <td>2017-11-28T17:17:42.000Z</td>\n",
       "      <td>I am behaviorally, socially, professionally, a...</td>\n",
       "      <td>20</td>\n",
       "      <td>204</td>\n",
       "      <td>732</td>\n",
       "      <td>0</td>\n",
       "      <td>False</td>\n",
       "    </tr>\n",
       "    <tr>\n",
       "      <th>1992</th>\n",
       "      <td>855377116782886912</td>\n",
       "      <td>BLAM UK</td>\n",
       "      <td>BLAMCharity</td>\n",
       "      <td>London, England</td>\n",
       "      <td>2017-04-21T11:06:11.000Z</td>\n",
       "      <td>Black | Learning | Achievement | Mental Health...</td>\n",
       "      <td>4350</td>\n",
       "      <td>1112</td>\n",
       "      <td>4018</td>\n",
       "      <td>26</td>\n",
       "      <td>False</td>\n",
       "    </tr>\n",
       "    <tr>\n",
       "      <th>1993</th>\n",
       "      <td>61104689</td>\n",
       "      <td>☮️ 🌿Laurel Leaves🍃🇺🇦I Stand WithUkraine🌻</td>\n",
       "      <td>KaooavopaKatapa</td>\n",
       "      <td></td>\n",
       "      <td>2009-07-29T03:47:28.000Z</td>\n",
       "      <td>#ExpandSCOTUS #FBR #BetoForGovernor \\n\\nI bloc...</td>\n",
       "      <td>8151</td>\n",
       "      <td>6431</td>\n",
       "      <td>139943</td>\n",
       "      <td>12</td>\n",
       "      <td>False</td>\n",
       "    </tr>\n",
       "  </tbody>\n",
       "</table>\n",
       "<p>1994 rows × 11 columns</p>\n",
       "</div>"
      ],
      "text/plain": [
       "                author_id                                      name  \\\n",
       "0      824678718165577730                           JC Cooper🇺🇦🇳🇿🇭🇲   \n",
       "1               573942340                          Kristoffer Tigue   \n",
       "2      828133781240320000                               Ida Collado   \n",
       "3              2530246140                          Uthred Ragnarson   \n",
       "4     1105207664479371266                                      Nick   \n",
       "...                   ...                                       ...   \n",
       "1989            376140762                      Ecotherapy in Exeter   \n",
       "1990            451508512                           Joey Freshwater   \n",
       "1991   935558327987081216                             Jackson Green   \n",
       "1992   855377116782886912                                   BLAM UK   \n",
       "1993             61104689  ☮️ 🌿Laurel Leaves🍃🇺🇦I Stand WithUkraine🌻   \n",
       "\n",
       "             username                location                created_at  \\\n",
       "0             CoopwrJ  Hillsborough, Auckland  2017-01-26T18:01:43.000Z   \n",
       "1             krtigue            New York, NY  2012-05-07T20:26:18.000Z   \n",
       "2          IdaColl_11            Puyallup, WA  2017-02-05T06:50:54.000Z   \n",
       "3       ChiefFrenchie          Minnesota, USA  2014-05-28T15:28:17.000Z   \n",
       "4        Nick25949264                          2019-03-11T20:43:35.000Z   \n",
       "...               ...                     ...                       ...   \n",
       "1989   dradrianharris         Exeter, England  2011-09-19T11:21:55.000Z   \n",
       "1990    LetsGoBr0ndan           Nashville, TN  2011-12-31T15:14:34.000Z   \n",
       "1991  Oldestgreenjack           New York City  2017-11-28T17:17:42.000Z   \n",
       "1992      BLAMCharity         London, England  2017-04-21T11:06:11.000Z   \n",
       "1993  KaooavopaKatapa                          2009-07-29T03:47:28.000Z   \n",
       "\n",
       "                                            description  followers_count  \\\n",
       "0     Materials and Transition Engineer but original...              901   \n",
       "1     Environmental justice reporter for @insideclim...              948   \n",
       "2     Proud wife of 33 yrs service US Army, voluntee...             1840   \n",
       "3     Love the outdoors.  Love the Minnesota Vikings...              291   \n",
       "4                                                                     23   \n",
       "...                                                 ...              ...   \n",
       "1989  Counsellor, Psychotherapist, psychedelic facil...              321   \n",
       "1990  Conservative 2A Trump Vols Titans Split time b...              481   \n",
       "1991  I am behaviorally, socially, professionally, a...               20   \n",
       "1992  Black | Learning | Achievement | Mental Health...             4350   \n",
       "1993  #ExpandSCOTUS #FBR #BetoForGovernor \\n\\nI bloc...             8151   \n",
       "\n",
       "      following_count  tweet_count  listed_count  verified  \n",
       "0                 750        24084            17     False  \n",
       "1                1195         1478            47     False  \n",
       "2                3087        36158             3     False  \n",
       "3                 515         6518             0     False  \n",
       "4                 117        11929             0     False  \n",
       "...               ...          ...           ...       ...  \n",
       "1989              424          815             5     False  \n",
       "1990             1223         7606             4     False  \n",
       "1991              204          732             0     False  \n",
       "1992             1112         4018            26     False  \n",
       "1993             6431       139943            12     False  \n",
       "\n",
       "[1994 rows x 11 columns]"
      ]
     },
     "execution_count": 246,
     "metadata": {},
     "output_type": "execute_result"
    }
   ],
   "source": [
    "author_df"
   ]
  },
  {
   "cell_type": "code",
   "execution_count": 249,
   "id": "ee59b7a4",
   "metadata": {},
   "outputs": [],
   "source": [
    "author_df.to_csv('Author_Info3006-5000.csv')"
   ]
  },
  {
   "cell_type": "code",
   "execution_count": null,
   "id": "39241fd8",
   "metadata": {},
   "outputs": [],
   "source": []
  }
 ],
 "metadata": {
  "kernelspec": {
   "display_name": "Python 3 (ipykernel)",
   "language": "python",
   "name": "python3"
  },
  "language_info": {
   "codemirror_mode": {
    "name": "ipython",
    "version": 3
   },
   "file_extension": ".py",
   "mimetype": "text/x-python",
   "name": "python",
   "nbconvert_exporter": "python",
   "pygments_lexer": "ipython3",
   "version": "3.9.12"
  }
 },
 "nbformat": 4,
 "nbformat_minor": 5
}
